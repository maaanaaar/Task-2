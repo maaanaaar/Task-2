{
 "cells": [
  {
   "cell_type": "markdown",
   "id": "32d07b5c",
   "metadata": {},
   "source": [
    "## Movie Recommendation"
   ]
  },
  {
   "cell_type": "markdown",
   "id": "26850d0d",
   "metadata": {},
   "source": [
    " Import Libraries \n",
    " "
   ]
  },
  {
   "cell_type": "code",
   "execution_count": 2,
   "id": "0109eb48",
   "metadata": {},
   "outputs": [],
   "source": [
    "import numpy as np\n",
    "import pandas as pd\n",
    "from sklearn.feature_extraction.text import TfidfVectorizer\n",
    "from sklearn.metrics.pairwise import linear_kernel"
   ]
  },
  {
   "cell_type": "markdown",
   "id": "51e8ca37",
   "metadata": {},
   "source": [
    "Load Data"
   ]
  },
  {
   "cell_type": "code",
   "execution_count": 3,
   "id": "76634347",
   "metadata": {},
   "outputs": [
    {
     "data": {
      "text/html": [
       "<div>\n",
       "<style scoped>\n",
       "    .dataframe tbody tr th:only-of-type {\n",
       "        vertical-align: middle;\n",
       "    }\n",
       "\n",
       "    .dataframe tbody tr th {\n",
       "        vertical-align: top;\n",
       "    }\n",
       "\n",
       "    .dataframe thead th {\n",
       "        text-align: right;\n",
       "    }\n",
       "</style>\n",
       "<table border=\"1\" class=\"dataframe\">\n",
       "  <thead>\n",
       "    <tr style=\"text-align: right;\">\n",
       "      <th></th>\n",
       "      <th>director_name</th>\n",
       "      <th>actor_1_name</th>\n",
       "      <th>actor_2_name</th>\n",
       "      <th>actor_3_name</th>\n",
       "      <th>genres</th>\n",
       "      <th>movie_title</th>\n",
       "    </tr>\n",
       "  </thead>\n",
       "  <tbody>\n",
       "    <tr>\n",
       "      <th>0</th>\n",
       "      <td>James Cameron</td>\n",
       "      <td>CCH Pounder</td>\n",
       "      <td>Joel David Moore</td>\n",
       "      <td>Wes Studi</td>\n",
       "      <td>Action Adventure Fantasy Sci-Fi</td>\n",
       "      <td>avatar</td>\n",
       "    </tr>\n",
       "    <tr>\n",
       "      <th>1</th>\n",
       "      <td>Gore Verbinski</td>\n",
       "      <td>Johnny Depp</td>\n",
       "      <td>Orlando Bloom</td>\n",
       "      <td>Jack Davenport</td>\n",
       "      <td>Action Adventure Fantasy</td>\n",
       "      <td>pirates of the caribbean: at world's end</td>\n",
       "    </tr>\n",
       "    <tr>\n",
       "      <th>2</th>\n",
       "      <td>Sam Mendes</td>\n",
       "      <td>Christoph Waltz</td>\n",
       "      <td>Rory Kinnear</td>\n",
       "      <td>Stephanie Sigman</td>\n",
       "      <td>Action Adventure Thriller</td>\n",
       "      <td>spectre</td>\n",
       "    </tr>\n",
       "    <tr>\n",
       "      <th>3</th>\n",
       "      <td>Christopher Nolan</td>\n",
       "      <td>Tom Hardy</td>\n",
       "      <td>Christian Bale</td>\n",
       "      <td>Joseph Gordon-Levitt</td>\n",
       "      <td>Action Thriller</td>\n",
       "      <td>the dark knight rises</td>\n",
       "    </tr>\n",
       "    <tr>\n",
       "      <th>4</th>\n",
       "      <td>Doug Walker</td>\n",
       "      <td>Doug Walker</td>\n",
       "      <td>Rob Walker</td>\n",
       "      <td>unknown</td>\n",
       "      <td>Documentary</td>\n",
       "      <td>star wars: episode vii - the force awakens    ...</td>\n",
       "    </tr>\n",
       "  </tbody>\n",
       "</table>\n",
       "</div>"
      ],
      "text/plain": [
       "       director_name     actor_1_name      actor_2_name          actor_3_name  \\\n",
       "0      James Cameron      CCH Pounder  Joel David Moore             Wes Studi   \n",
       "1     Gore Verbinski      Johnny Depp     Orlando Bloom        Jack Davenport   \n",
       "2         Sam Mendes  Christoph Waltz      Rory Kinnear      Stephanie Sigman   \n",
       "3  Christopher Nolan        Tom Hardy    Christian Bale  Joseph Gordon-Levitt   \n",
       "4        Doug Walker      Doug Walker        Rob Walker               unknown   \n",
       "\n",
       "                            genres  \\\n",
       "0  Action Adventure Fantasy Sci-Fi   \n",
       "1         Action Adventure Fantasy   \n",
       "2        Action Adventure Thriller   \n",
       "3                  Action Thriller   \n",
       "4                      Documentary   \n",
       "\n",
       "                                         movie_title  \n",
       "0                                             avatar  \n",
       "1           pirates of the caribbean: at world's end  \n",
       "2                                            spectre  \n",
       "3                              the dark knight rises  \n",
       "4  star wars: episode vii - the force awakens    ...  "
      ]
     },
     "execution_count": 3,
     "metadata": {},
     "output_type": "execute_result"
    }
   ],
   "source": [
    "# Load data\n",
    "movies_metadata = pd.read_csv('data.csv')\n",
    "\n",
    "# Display the first few rows of the dataset\n",
    "movies_metadata.head()\n"
   ]
  },
  {
   "cell_type": "markdown",
   "id": "f0e318f6",
   "metadata": {},
   "source": [
    " Data Preprocessing"
   ]
  },
  {
   "cell_type": "code",
   "execution_count": 4,
   "id": "5e25b5ea",
   "metadata": {},
   "outputs": [
    {
     "data": {
      "text/html": [
       "<div>\n",
       "<style scoped>\n",
       "    .dataframe tbody tr th:only-of-type {\n",
       "        vertical-align: middle;\n",
       "    }\n",
       "\n",
       "    .dataframe tbody tr th {\n",
       "        vertical-align: top;\n",
       "    }\n",
       "\n",
       "    .dataframe thead th {\n",
       "        text-align: right;\n",
       "    }\n",
       "</style>\n",
       "<table border=\"1\" class=\"dataframe\">\n",
       "  <thead>\n",
       "    <tr style=\"text-align: right;\">\n",
       "      <th></th>\n",
       "      <th>movie_title</th>\n",
       "      <th>combined_features</th>\n",
       "    </tr>\n",
       "  </thead>\n",
       "  <tbody>\n",
       "    <tr>\n",
       "      <th>0</th>\n",
       "      <td>avatar</td>\n",
       "      <td>James Cameron CCH Pounder Joel David Moore Wes...</td>\n",
       "    </tr>\n",
       "    <tr>\n",
       "      <th>1</th>\n",
       "      <td>pirates of the caribbean: at world's end</td>\n",
       "      <td>Gore Verbinski Johnny Depp Orlando Bloom Jack ...</td>\n",
       "    </tr>\n",
       "    <tr>\n",
       "      <th>2</th>\n",
       "      <td>spectre</td>\n",
       "      <td>Sam Mendes Christoph Waltz Rory Kinnear Stepha...</td>\n",
       "    </tr>\n",
       "    <tr>\n",
       "      <th>3</th>\n",
       "      <td>the dark knight rises</td>\n",
       "      <td>Christopher Nolan Tom Hardy Christian Bale Jos...</td>\n",
       "    </tr>\n",
       "    <tr>\n",
       "      <th>4</th>\n",
       "      <td>star wars: episode vii - the force awakens    ...</td>\n",
       "      <td>Doug Walker Doug Walker Rob Walker unknown Doc...</td>\n",
       "    </tr>\n",
       "  </tbody>\n",
       "</table>\n",
       "</div>"
      ],
      "text/plain": [
       "                                         movie_title  \\\n",
       "0                                             avatar   \n",
       "1           pirates of the caribbean: at world's end   \n",
       "2                                            spectre   \n",
       "3                              the dark knight rises   \n",
       "4  star wars: episode vii - the force awakens    ...   \n",
       "\n",
       "                                   combined_features  \n",
       "0  James Cameron CCH Pounder Joel David Moore Wes...  \n",
       "1  Gore Verbinski Johnny Depp Orlando Bloom Jack ...  \n",
       "2  Sam Mendes Christoph Waltz Rory Kinnear Stepha...  \n",
       "3  Christopher Nolan Tom Hardy Christian Bale Jos...  \n",
       "4  Doug Walker Doug Walker Rob Walker unknown Doc...  "
      ]
     },
     "execution_count": 4,
     "metadata": {},
     "output_type": "execute_result"
    }
   ],
   "source": [
    "# Fill NaN values with empty strings\n",
    "movies_metadata['director_name'] = movies_metadata['director_name'].fillna('')\n",
    "movies_metadata['actor_1_name'] = movies_metadata['actor_1_name'].fillna('')\n",
    "movies_metadata['actor_2_name'] = movies_metadata['actor_2_name'].fillna('')\n",
    "movies_metadata['actor_3_name'] = movies_metadata['actor_3_name'].fillna('')\n",
    "movies_metadata['genres'] = movies_metadata['genres'].fillna('')\n",
    "movies_metadata['movie_title'] = movies_metadata['movie_title'].fillna('')\n",
    "\n",
    "# Combine the relevant features into a single string\n",
    "movies_metadata['combined_features'] = movies_metadata['director_name'] + ' ' + \\\n",
    "                                       movies_metadata['actor_1_name'] + ' ' + \\\n",
    "                                       movies_metadata['actor_2_name'] + ' ' + \\\n",
    "                                       movies_metadata['actor_3_name'] + ' ' + \\\n",
    "                                       movies_metadata['genres']\n",
    "\n",
    "# Display the first few rows with the combined features\n",
    "movies_metadata[['movie_title', 'combined_features']].head()\n"
   ]
  },
  {
   "cell_type": "markdown",
   "id": "c2081913",
   "metadata": {},
   "source": [
    " Create a TF-IDF Matrix"
   ]
  },
  {
   "cell_type": "code",
   "execution_count": 5,
   "id": "72fa1633",
   "metadata": {},
   "outputs": [
    {
     "data": {
      "text/plain": [
       "(5043, 8588)"
      ]
     },
     "execution_count": 5,
     "metadata": {},
     "output_type": "execute_result"
    }
   ],
   "source": [
    "# Create a TF-IDF Vectorizer\n",
    "tfidf_vectorizer = TfidfVectorizer(stop_words='english')\n",
    "\n",
    "# Apply the TF-IDF Vectorizer to the combined features\n",
    "tfidf_matrix = tfidf_vectorizer.fit_transform(movies_metadata['combined_features'])\n",
    "\n",
    "# Display the shape of the TF-IDF matrix\n",
    "tfidf_matrix.shape\n"
   ]
  },
  {
   "cell_type": "markdown",
   "id": "3f633252",
   "metadata": {},
   "source": [
    "Compute the Cosine Similarity Matrix"
   ]
  },
  {
   "cell_type": "code",
   "execution_count": 6,
   "id": "b291ad7f",
   "metadata": {},
   "outputs": [
    {
     "data": {
      "text/plain": [
       "(5043, 5043)"
      ]
     },
     "execution_count": 6,
     "metadata": {},
     "output_type": "execute_result"
    }
   ],
   "source": [
    "# Compute the cosine similarity matrix\n",
    "cosine_sim = linear_kernel(tfidf_matrix, tfidf_matrix)\n",
    "\n",
    "# Display the shape of the cosine similarity matrix\n",
    "cosine_sim.shape\n"
   ]
  },
  {
   "cell_type": "markdown",
   "id": "262ba5eb",
   "metadata": {},
   "source": [
    "Build a Recommendation Function"
   ]
  },
  {
   "cell_type": "code",
   "execution_count": 7,
   "id": "6c3b8123",
   "metadata": {},
   "outputs": [],
   "source": [
    "# Convert all movie titles to lowercase\n",
    "movies_metadata['movie_title'] = movies_metadata['movie_title'].str.lower()\n",
    "\n",
    "# Update the reverse mapping with lowercase titles\n",
    "indices = pd.Series(movies_metadata.index, index=movies_metadata['movie_title']).drop_duplicates()\n",
    "\n",
    "def get_recommendations(title, cosine_sim=cosine_sim):\n",
    "    # Convert the title to lowercase\n",
    "    title = title.strip().lower()\n",
    "    \n",
    "    # Get the index of the movie that matches the title\n",
    "    if title not in indices:\n",
    "        return f\"Movie '{title}' not found in the dataset.\"\n",
    "    \n",
    "    idx = indices[title]\n",
    "    \n",
    "    # Get the pairwise similarity scores of all movies with that movie\n",
    "    sim_scores = list(enumerate(cosine_sim[idx]))\n",
    "    \n",
    "    # Sort the movies based on the similarity scores\n",
    "    sim_scores = sorted(sim_scores, key=lambda x: x[1], reverse=True)\n",
    "    \n",
    "    # Get the scores of the 10 most similar movies\n",
    "    sim_scores = sim_scores[1:11]\n",
    "    \n",
    "    # Get the movie indices\n",
    "    movie_indices = [i[0] for i in sim_scores]\n",
    "    \n",
    "    # Return the top 10 most similar movies\n",
    "    return movies_metadata['movie_title'].iloc[movie_indices]\n"
   ]
  },
  {
   "cell_type": "code",
   "execution_count": 8,
   "id": "4b2ccb32",
   "metadata": {},
   "outputs": [
    {
     "name": "stdout",
     "output_type": "stream",
     "text": [
      "Recommendations for 'The Dark Knight':\n",
      "1. Batman Begins\n",
      "2. The Dark Knight Rises\n",
      "3. The Prestige\n",
      "4. I'M Not There.\n",
      "5. The Patriot\n",
      "6. Brokeback Mountain\n",
      "7. The Brothers Grimm\n",
      "8. The Order\n",
      "9. Harsh Times\n",
      "10. Lords Of Dogtown\n"
     ]
    }
   ],
   "source": [
    "# Example usage\n",
    "movie_title = 'The Dark Knight'\n",
    "recommendations = get_recommendations(movie_title)\n",
    "if isinstance(recommendations, str):\n",
    "    print(recommendations)\n",
    "else:\n",
    "    print(f\"Recommendations for '{movie_title}':\")\n",
    "    for idx, title in enumerate(recommendations, start=1):\n",
    "        print(f\"{idx}. {title.title()}\")"
   ]
  },
  {
   "cell_type": "code",
   "execution_count": null,
   "id": "fc522e48",
   "metadata": {},
   "outputs": [],
   "source": []
  }
 ],
 "metadata": {
  "kernelspec": {
   "display_name": "Python 3 (ipykernel)",
   "language": "python",
   "name": "python3"
  },
  "language_info": {
   "codemirror_mode": {
    "name": "ipython",
    "version": 3
   },
   "file_extension": ".py",
   "mimetype": "text/x-python",
   "name": "python",
   "nbconvert_exporter": "python",
   "pygments_lexer": "ipython3",
   "version": "3.11.5"
  }
 },
 "nbformat": 4,
 "nbformat_minor": 5
}
